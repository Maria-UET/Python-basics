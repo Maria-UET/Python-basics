{
 "cells": [
  {
   "cell_type": "code",
   "execution_count": 6,
   "metadata": {},
   "outputs": [
    {
     "name": "stdout",
     "output_type": "stream",
     "text": [
      "Please enter a test string: abc\n",
      "String is too short\n",
      "Please enter a test with 6 or more chars \n"
     ]
    }
   ],
   "source": [
    "# If, Then, Else in Python || Python Tutorial || Learn Python Programming\n",
    "\n",
    "# code to measure the length of input\n",
    "\n",
    "inp = input('Please enter a test string: ') # python2 uses raw_input\n",
    "if len(inp)<6: # colon makes a code block\n",
    "    print('String is too short')\n",
    "    print('Please enter a test with 6 or more chars ')\n",
    "    \n"
   ]
  },
  {
   "cell_type": "code",
   "execution_count": 9,
   "metadata": {},
   "outputs": [
    {
     "name": "stdout",
     "output_type": "stream",
     "text": [
      "Please enter a number: 13284479498749283739748193827598710301980824837897\n",
      "odd\n"
     ]
    }
   ],
   "source": [
    "# code to check if input is even or odd\n",
    "\n",
    "inp = input('Please enter a number: ') \n",
    "inp = int(inp) # as input function returns a string, convert it to int\n",
    "if inp%2 == 0: \n",
    "    print('even')\n",
    "else:\n",
    "    print('odd')"
   ]
  },
  {
   "cell_type": "code",
   "execution_count": null,
   "metadata": {},
   "outputs": [],
   "source": []
  }
 ],
 "metadata": {
  "kernelspec": {
   "display_name": "Python 3",
   "language": "python",
   "name": "python3"
  },
  "language_info": {
   "codemirror_mode": {
    "name": "ipython",
    "version": 3
   },
   "file_extension": ".py",
   "mimetype": "text/x-python",
   "name": "python",
   "nbconvert_exporter": "python",
   "pygments_lexer": "ipython3",
   "version": "3.7.3"
  }
 },
 "nbformat": 4,
 "nbformat_minor": 2
}
