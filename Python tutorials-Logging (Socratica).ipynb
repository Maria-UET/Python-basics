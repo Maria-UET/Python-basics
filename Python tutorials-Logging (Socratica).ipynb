{
 "cells": [
  {
   "cell_type": "code",
   "execution_count": 3,
   "metadata": {},
   "outputs": [
    {
     "data": {
      "text/plain": [
       "['BASIC_FORMAT',\n",
       " 'BufferingFormatter',\n",
       " 'CRITICAL',\n",
       " 'DEBUG',\n",
       " 'ERROR',\n",
       " 'FATAL',\n",
       " 'FileHandler',\n",
       " 'Filter',\n",
       " 'Filterer',\n",
       " 'Formatter',\n",
       " 'Handler',\n",
       " 'INFO',\n",
       " 'LogRecord',\n",
       " 'Logger',\n",
       " 'LoggerAdapter',\n",
       " 'Manager',\n",
       " 'NOTSET',\n",
       " 'NullHandler',\n",
       " 'PercentStyle',\n",
       " 'PlaceHolder',\n",
       " 'RootLogger',\n",
       " 'StrFormatStyle',\n",
       " 'StreamHandler',\n",
       " 'StringTemplateStyle',\n",
       " 'Template',\n",
       " 'WARN',\n",
       " 'WARNING',\n",
       " '_STYLES',\n",
       " '_StderrHandler',\n",
       " '__all__',\n",
       " '__author__',\n",
       " '__builtins__',\n",
       " '__cached__',\n",
       " '__date__',\n",
       " '__doc__',\n",
       " '__file__',\n",
       " '__loader__',\n",
       " '__name__',\n",
       " '__package__',\n",
       " '__path__',\n",
       " '__spec__',\n",
       " '__status__',\n",
       " '__version__',\n",
       " '_acquireLock',\n",
       " '_addHandlerRef',\n",
       " '_after_at_fork_weak_calls',\n",
       " '_at_fork_acquire_release_weakset',\n",
       " '_at_fork_weak_calls',\n",
       " '_before_at_fork_weak_calls',\n",
       " '_checkLevel',\n",
       " '_defaultFormatter',\n",
       " '_defaultLastResort',\n",
       " '_handlerList',\n",
       " '_handlers',\n",
       " '_levelToName',\n",
       " '_lock',\n",
       " '_logRecordFactory',\n",
       " '_loggerClass',\n",
       " '_nameToLevel',\n",
       " '_register_at_fork_acquire_release',\n",
       " '_releaseLock',\n",
       " '_removeHandlerRef',\n",
       " '_showwarning',\n",
       " '_srcfile',\n",
       " '_startTime',\n",
       " '_warnings_showwarning',\n",
       " 'addLevelName',\n",
       " 'atexit',\n",
       " 'basicConfig',\n",
       " 'captureWarnings',\n",
       " 'collections',\n",
       " 'critical',\n",
       " 'currentframe',\n",
       " 'debug',\n",
       " 'disable',\n",
       " 'error',\n",
       " 'exception',\n",
       " 'fatal',\n",
       " 'getLevelName',\n",
       " 'getLogRecordFactory',\n",
       " 'getLogger',\n",
       " 'getLoggerClass',\n",
       " 'handlers',\n",
       " 'info',\n",
       " 'io',\n",
       " 'lastResort',\n",
       " 'log',\n",
       " 'logMultiprocessing',\n",
       " 'logProcesses',\n",
       " 'logThreads',\n",
       " 'makeLogRecord',\n",
       " 'os',\n",
       " 'raiseExceptions',\n",
       " 'root',\n",
       " 'setLogRecordFactory',\n",
       " 'setLoggerClass',\n",
       " 'shutdown',\n",
       " 'sys',\n",
       " 'threading',\n",
       " 'time',\n",
       " 'traceback',\n",
       " 'warn',\n",
       " 'warning',\n",
       " 'warnings',\n",
       " 'weakref']"
      ]
     },
     "execution_count": 3,
     "metadata": {},
     "output_type": "execute_result"
    }
   ],
   "source": [
    "# there are 5 builtin levels of logging in python\n",
    "# debug, info, warning, error, critical \n",
    "import logging\n",
    "\n",
    "dir(logging)"
   ]
  },
  {
   "cell_type": "code",
   "execution_count": 6,
   "metadata": {},
   "outputs": [
    {
     "name": "stdout",
     "output_type": "stream",
     "text": [
      "30\n"
     ]
    }
   ],
   "source": [
    "logging.basicConfig(filename='/home/maria/Desktop/Maria_Shaukat_Admins/Oklahoma/jupyter/logs/logging_tutorial_log.txt'\n",
    "                   ) # set up logger\n",
    "logger = logging.getLogger() # using root logger\n",
    "\n",
    "logger.info('First message.')\n",
    "print(logger.level)  # levels are DIWEC\n",
    "# we can ONLY log for l >= level\n",
    "# NOTSET = 0\n",
    "# DEBUG = 10\n",
    "# INFO = 20\n",
    "# WARNING = 30\n",
    "# ERROR = 40\n",
    "# CRITICAL = 50\n",
    "\n",
    "# currently level = 30 = WARNING, INFO is 20, thats why message wont be printed to file\n"
   ]
  },
  {
   "cell_type": "code",
   "execution_count": 13,
   "metadata": {},
   "outputs": [
    {
     "name": "stdout",
     "output_type": "stream",
     "text": [
      "10\n"
     ]
    }
   ],
   "source": [
    "from imp import reload\n",
    "reload(logging)\n",
    "\n",
    "LOG_FORMAT = '%(levelname)s %(asctime)s - %(message)s'\n",
    "logging.basicConfig(filename='/home/maria/Desktop/Maria_Shaukat_Admins/Oklahoma/jupyter/logs/logging_tutorial_log.txt',\n",
    "                  level = logging.DEBUG, \n",
    "                  format = LOG_FORMAT)\n",
    "logger = logging.getLogger()\n",
    "print(logger.level)\n",
    "logger.info('First message.')\n"
   ]
  },
  {
   "cell_type": "code",
   "execution_count": 14,
   "metadata": {},
   "outputs": [],
   "source": [
    "logger.debug('This is a debug message.')\n",
    "logger.info('This is an info message.')\n",
    "logger.warning('This is a warning message.')\n",
    "logger.error('This is an error message.')\n",
    "logger.critical('This is a critical message.')"
   ]
  },
  {
   "cell_type": "code",
   "execution_count": 15,
   "metadata": {},
   "outputs": [
    {
     "ename": "ZeroDivisionError",
     "evalue": "float division by zero",
     "output_type": "error",
     "traceback": [
      "\u001b[0;31m---------------------------------------------------------------------------\u001b[0m",
      "\u001b[0;31mZeroDivisionError\u001b[0m                         Traceback (most recent call last)",
      "\u001b[0;32m<ipython-input-15-9a3275750d55>\u001b[0m in \u001b[0;36m<module>\u001b[0;34m\u001b[0m\n\u001b[1;32m     35\u001b[0m \u001b[0;34m\u001b[0m\u001b[0m\n\u001b[1;32m     36\u001b[0m \u001b[0;34m\u001b[0m\u001b[0m\n\u001b[0;32m---> 37\u001b[0;31m \u001b[0mprint\u001b[0m\u001b[0;34m(\u001b[0m\u001b[0mquad_formula\u001b[0m\u001b[0;34m(\u001b[0m\u001b[0;36m0\u001b[0m\u001b[0;34m,\u001b[0m\u001b[0;36m2\u001b[0m\u001b[0;34m,\u001b[0m\u001b[0;34m-\u001b[0m\u001b[0;36m1\u001b[0m\u001b[0;34m)\u001b[0m\u001b[0;34m)\u001b[0m\u001b[0;34m\u001b[0m\u001b[0;34m\u001b[0m\u001b[0m\n\u001b[0m",
      "\u001b[0;32m<ipython-input-15-9a3275750d55>\u001b[0m in \u001b[0;36mquad_formula\u001b[0;34m(a, b, c)\u001b[0m\n\u001b[1;32m     25\u001b[0m     \u001b[0;32mif\u001b[0m \u001b[0ma\u001b[0m \u001b[0;34m==\u001b[0m \u001b[0;36m0\u001b[0m\u001b[0;34m:\u001b[0m\u001b[0;34m\u001b[0m\u001b[0;34m\u001b[0m\u001b[0m\n\u001b[1;32m     26\u001b[0m         \u001b[0mlogger\u001b[0m\u001b[0;34m.\u001b[0m\u001b[0merror\u001b[0m\u001b[0;34m(\u001b[0m\u001b[0;34m'dividing by 0'\u001b[0m\u001b[0;34m)\u001b[0m\u001b[0;34m\u001b[0m\u001b[0;34m\u001b[0m\u001b[0m\n\u001b[0;32m---> 27\u001b[0;31m     \u001b[0mx1\u001b[0m \u001b[0;34m=\u001b[0m \u001b[0;34m(\u001b[0m\u001b[0;34m-\u001b[0m\u001b[0mb\u001b[0m \u001b[0;34m+\u001b[0m \u001b[0mmath\u001b[0m\u001b[0;34m.\u001b[0m\u001b[0msqrt\u001b[0m\u001b[0;34m(\u001b[0m\u001b[0mdisc\u001b[0m\u001b[0;34m)\u001b[0m\u001b[0;34m)\u001b[0m\u001b[0;34m/\u001b[0m\u001b[0;34m(\u001b[0m\u001b[0;36m2\u001b[0m\u001b[0;34m*\u001b[0m\u001b[0ma\u001b[0m\u001b[0;34m)\u001b[0m\u001b[0;34m\u001b[0m\u001b[0;34m\u001b[0m\u001b[0m\n\u001b[0m\u001b[1;32m     28\u001b[0m     \u001b[0mx2\u001b[0m \u001b[0;34m=\u001b[0m \u001b[0;34m(\u001b[0m\u001b[0;34m-\u001b[0m\u001b[0mb\u001b[0m \u001b[0;34m-\u001b[0m \u001b[0mmath\u001b[0m\u001b[0;34m.\u001b[0m\u001b[0msqrt\u001b[0m\u001b[0;34m(\u001b[0m\u001b[0mdisc\u001b[0m\u001b[0;34m)\u001b[0m\u001b[0;34m)\u001b[0m\u001b[0;34m/\u001b[0m\u001b[0;34m(\u001b[0m\u001b[0;36m2\u001b[0m\u001b[0;34m*\u001b[0m\u001b[0ma\u001b[0m\u001b[0;34m)\u001b[0m\u001b[0;34m\u001b[0m\u001b[0;34m\u001b[0m\u001b[0m\n\u001b[1;32m     29\u001b[0m \u001b[0;34m\u001b[0m\u001b[0m\n",
      "\u001b[0;31mZeroDivisionError\u001b[0m: float division by zero"
     ]
    }
   ],
   "source": [
    "# logging for quadratic function\n",
    "\n",
    "import logging\n",
    "import math\n",
    "from imp import reload\n",
    "reload(logging)\n",
    "LOGGING_FORMAT = '%(levelname)s %(asctime)s - %(message)s'\n",
    "logging.basicConfig(filename='/home/maria/Desktop/Maria_Shaukat_Admins/Oklahoma/jupyter/logs/logging_tutorial_log.txt',\n",
    "                   level = logging.DEBUG\n",
    "                   , format = LOGGING_FORMAT, filemode = 'w')\n",
    "logger = logging.getLogger()\n",
    "\n",
    "def quad_formula(a,b,c):\n",
    "    \"\"\" Return the solutions to the equation ax^2 + bx +c = 0 \"\"\"\n",
    "    logger.info('quad_formula({0},{1},{2})'.format(a,b,c))\n",
    "    \n",
    "    # compute the discriminant\n",
    "    logger.debug('compute the discriminant')\n",
    "    disc = b**2 - 4*a*c # the value under the squareroot is called discrement\n",
    "    if disc < 0:\n",
    "        logger.error('discriminant is negative')\n",
    "        \n",
    "    # compute the roots\n",
    "    logger.debug('compute the roots')\n",
    "    if a == 0: \n",
    "        logger.error('dividing by 0')\n",
    "    x1 = (-b + math.sqrt(disc))/(2*a)\n",
    "    x2 = (-b - math.sqrt(disc))/(2*a)\n",
    "    \n",
    "    # return the roots\n",
    "    logger.debug('return the roots')\n",
    "    return (x1,x2)\n",
    "\n",
    "    \n",
    "    \n",
    "\n",
    "print(quad_formula(0,2,-1))"
   ]
  },
  {
   "cell_type": "code",
   "execution_count": null,
   "metadata": {},
   "outputs": [],
   "source": [
    "    \n",
    "\n",
    "\n",
    "    \n",
    "    "
   ]
  }
 ],
 "metadata": {
  "kernelspec": {
   "display_name": "Python 3",
   "language": "python",
   "name": "python3"
  },
  "language_info": {
   "codemirror_mode": {
    "name": "ipython",
    "version": 3
   },
   "file_extension": ".py",
   "mimetype": "text/x-python",
   "name": "python",
   "nbconvert_exporter": "python",
   "pygments_lexer": "ipython3",
   "version": "3.7.3"
  }
 },
 "nbformat": 4,
 "nbformat_minor": 2
}
