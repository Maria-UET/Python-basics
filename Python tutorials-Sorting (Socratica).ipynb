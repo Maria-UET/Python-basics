{
 "cells": [
  {
   "cell_type": "code",
   "execution_count": 1,
   "metadata": {},
   "outputs": [],
   "source": [
    "earth_metals = [\"Beryllium\", \"Magnesium\", \"Calcium\",\"Strontium\",\"Barium\", \"Radium\"]"
   ]
  },
  {
   "cell_type": "code",
   "execution_count": 4,
   "metadata": {},
   "outputs": [
    {
     "data": {
      "text/plain": [
       "['Barium', 'Beryllium', 'Calcium', 'Magnesium', 'Radium', 'Strontium']"
      ]
     },
     "execution_count": 4,
     "metadata": {},
     "output_type": "execute_result"
    }
   ],
   "source": [
    "earth_metals.sort() # sorts alphabetically by default \n",
    "earth_metals"
   ]
  },
  {
   "cell_type": "code",
   "execution_count": 6,
   "metadata": {},
   "outputs": [
    {
     "data": {
      "text/plain": [
       "['Strontium', 'Radium', 'Magnesium', 'Calcium', 'Beryllium', 'Barium']"
      ]
     },
     "execution_count": 6,
     "metadata": {},
     "output_type": "execute_result"
    }
   ],
   "source": [
    "earth_metals.sort(reverse=True)\n",
    "earth_metals"
   ]
  },
  {
   "cell_type": "code",
   "execution_count": 4,
   "metadata": {},
   "outputs": [
    {
     "name": "stdout",
     "output_type": "stream",
     "text": [
      "Help on method_descriptor:\n",
      "\n",
      "sort(self, /, *, key=None, reverse=False)\n",
      "    Stable sort *IN PLACE*.\n",
      "\n"
     ]
    }
   ],
   "source": [
    "help(list.sort)\n"
   ]
  },
  {
   "cell_type": "code",
   "execution_count": 9,
   "metadata": {},
   "outputs": [
    {
     "data": {
      "text/plain": [
       "[('Earth', 1.0, 1.0, 1),\n",
       " ('Jupiter', 11.209, 317.8, 79),\n",
       " ('Mars', 0.532, 0.11, 2),\n",
       " ('Mercury', 0.382, 0.06, 0),\n",
       " ('Neptune', 3.883, 17.2, 14),\n",
       " ('Saturn', 9.449, 95.5, 92),\n",
       " ('Uranus', 4.007, 14.6, 27),\n",
       " ('Venus', 0.949, 0.82, 0)]"
      ]
     },
     "execution_count": 9,
     "metadata": {},
     "output_type": "execute_result"
    }
   ],
   "source": [
    "# name, diameter, blah, blah\n",
    "# source: https://en.wikipedia.org/wiki/Planet\n",
    "\n",
    "planets = [ # sorted by distance from sun\n",
    "(\"Mercury\",0.382,0.06,0),\n",
    "(\"Venus\",0.949,0.82,0),\n",
    "(\"Earth\",1.00,1.00,1),\n",
    "(\"Mars\",0.532,0.11,2),\n",
    "(\"Jupiter\",11.209,317.8,79),\n",
    "(\"Saturn\",9.449,95.5,92),\n",
    "(\"Uranus\",4.007,14.6,27),\n",
    "(\"Neptune\",3.883,17.2,14)\n",
    "]\n",
    "\n",
    "planets.sort() # sorted by name\n",
    "planets "
   ]
  },
  {
   "cell_type": "code",
   "execution_count": 17,
   "metadata": {},
   "outputs": [
    {
     "data": {
      "text/plain": [
       "[('Jupiter', 11.209, 317.8, 79),\n",
       " ('Saturn', 9.449, 95.5, 92),\n",
       " ('Uranus', 4.007, 14.6, 27),\n",
       " ('Neptune', 3.883, 17.2, 14),\n",
       " ('Earth', 1.0, 1.0, 1),\n",
       " ('Venus', 0.949, 0.82, 0),\n",
       " ('Mars', 0.532, 0.11, 2),\n",
       " ('Mercury', 0.382, 0.06, 0)]"
      ]
     },
     "execution_count": 17,
     "metadata": {},
     "output_type": "execute_result"
    }
   ],
   "source": [
    "# sort by diameter\n",
    "by_size = lambda x: x[1]\n",
    "planets.sort(key=by_size, reverse=True)\n",
    "planets"
   ]
  },
  {
   "cell_type": "code",
   "execution_count": 18,
   "metadata": {},
   "outputs": [
    {
     "name": "stdout",
     "output_type": "stream",
     "text": [
      "Help on built-in function sorted in module builtins:\n",
      "\n",
      "sorted(iterable, /, *, key=None, reverse=False)\n",
      "    Return a new list containing all items from the iterable in ascending order.\n",
      "    \n",
      "    A custom key function can be supplied to customize the sort order, and the\n",
      "    reverse flag can be set to request the result in descending order.\n",
      "\n"
     ]
    }
   ],
   "source": [
    "# to avoid sorting the original list or to sort a tuple, use sorted\n",
    "help(sorted) # sorted is in __builtins__, while sort is in list module"
   ]
  },
  {
   "cell_type": "code",
   "execution_count": 19,
   "metadata": {},
   "outputs": [
    {
     "data": {
      "text/plain": [
       "[2, 7, 7, 8, 8, 13, 13, 22, 35, 45, 77, 78, 91, 2234]"
      ]
     },
     "execution_count": 19,
     "metadata": {},
     "output_type": "execute_result"
    }
   ],
   "source": [
    "# sorting a tuple\n",
    "random_ints_tuple = (91,45,13,78,13,77,35,7,2,7,8,2234,8,22)\n",
    "sorted(random_ints_tuple)"
   ]
  },
  {
   "cell_type": "code",
   "execution_count": 22,
   "metadata": {},
   "outputs": [
    {
     "data": {
      "text/plain": [
       "['A', 'a', 'a', 'b', 'c', 'e', 'h', 'i', 'l', 'l', 'p', 't']"
      ]
     },
     "execution_count": 22,
     "metadata": {},
     "output_type": "execute_result"
    }
   ],
   "source": [
    "string = 'Alphabetical'\n",
    "sorted(string)"
   ]
  },
  {
   "cell_type": "code",
   "execution_count": null,
   "metadata": {},
   "outputs": [],
   "source": []
  }
 ],
 "metadata": {
  "kernelspec": {
   "display_name": "Python 3",
   "language": "python",
   "name": "python3"
  },
  "language_info": {
   "codemirror_mode": {
    "name": "ipython",
    "version": 3
   },
   "file_extension": ".py",
   "mimetype": "text/x-python",
   "name": "python",
   "nbconvert_exporter": "python",
   "pygments_lexer": "ipython3",
   "version": "3.7.3"
  }
 },
 "nbformat": 4,
 "nbformat_minor": 2
}
